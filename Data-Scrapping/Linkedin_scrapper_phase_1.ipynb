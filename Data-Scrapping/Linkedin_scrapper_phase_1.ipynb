{
 "cells": [
  {
   "cell_type": "markdown",
   "id": "9c7c5837",
   "metadata": {},
   "source": [
    "#                          LINKEDIN WEB SCRAPPING"
   ]
  },
  {
   "cell_type": "markdown",
   "id": "f24a60f2",
   "metadata": {},
   "source": [
    "## IMPORTING LIBRARIES"
   ]
  },
  {
   "cell_type": "code",
   "execution_count": 5,
   "id": "a4618cb6",
   "metadata": {},
   "outputs": [],
   "source": [
    "# Importing Libraries\n",
    "import pandas as pd\n",
    "import time\n",
    "import selenium\n",
    "from selenium import webdriver as wb"
   ]
  },
  {
   "cell_type": "markdown",
   "id": "e75cbe9e",
   "metadata": {},
   "source": [
    "## OPENING AN AUTOMATED CHROME BROWSER"
   ]
  },
  {
   "cell_type": "code",
   "execution_count": 6,
   "id": "dff924b2",
   "metadata": {},
   "outputs": [
    {
     "name": "stdout",
     "output_type": "stream",
     "text": [
      "Enter your path for chromedriver-exe file\"D:\\project\\chromedriver_win32\"\n"
     ]
    },
    {
     "name": "stderr",
     "output_type": "stream",
     "text": [
      "C:\\Users\\Owner\\AppData\\Local\\Temp\\ipykernel_21552\\2290567841.py:5: DeprecationWarning: executable_path has been deprecated, please pass in a Service object\n",
      "  obj = wb.Chrome(path)\n"
     ]
    }
   ],
   "source": [
    "# Opening an automated chrome browser :\n",
    "\n",
    "# Taking input from user - path for the chromedriver :\n",
    "path = input(\"Enter your path for chromedriver-exe file\")\n",
    "obj = wb.Chrome(path)\n",
    "\n",
    "# Maximizing the Autometed Window :\n",
    "obj.maximize_window() \n",
    "\n",
    "# Hitting the Linkdin website in autometed chrome :\n",
    "obj.get('https://www.linkedin.com/jobs/search/?currentJobId=3427402379')\n",
    "time.sleep(3)\n"
   ]
  },
  {
   "cell_type": "markdown",
   "id": "fa433763",
   "metadata": {},
   "source": [
    "## SIGINING-IN TO OUR LINKEDIN PAGE"
   ]
  },
  {
   "cell_type": "code",
   "execution_count": 7,
   "id": "612ee2b0",
   "metadata": {},
   "outputs": [],
   "source": [
    "#  Below Function is used to Signing-In to our Linkedin page:\n",
    "\n",
    "def func_To_Login_In_Linkedin(email, password):\n",
    "    # Entering the sign-in page :\n",
    "    sign_btn = obj.find_element('xpath' , '/html/body/div[1]/header/nav/div/a[2]')\n",
    "    sign_btn.click();\n",
    "    \n",
    "    # Giving time to load that page :\n",
    "    time.sleep(2)\n",
    "    \n",
    "    # Entering Email\n",
    "    email = obj.find_element('xpath' , '/html/body/div/main/div[2]/div[1]/form/div[1]/input');\n",
    "    email.send_keys(email)\n",
    "    \n",
    "    # Entering Password\n",
    "    password = obj.find_element('xpath' , '/html/body/div/main/div[2]/div[1]/form/div[2]/input');\n",
    "    password.send_keys(password)\n",
    "    \n",
    "    # Entering the next page by clicking on the sign-in button\n",
    "    button = obj.find_element('xpath' , '/html/body/div/main/div[2]/div[1]/form/div[3]/button');\n",
    "    button.click()"
   ]
  },
  {
   "cell_type": "markdown",
   "id": "d094e44f",
   "metadata": {},
   "source": [
    "## DEFINING VARIABLES TO STORE THE SCRAPED DATA"
   ]
  },
  {
   "cell_type": "code",
   "execution_count": 8,
   "id": "b1cf167a",
   "metadata": {},
   "outputs": [],
   "source": [
    "# defining our list - dataset will be stored here :\n",
    "data = []\n",
    "\n",
    "# Defining a Empty Dictionary To store the data\n",
    "temp = {\n",
    "            \"title\":\"not found\",\n",
    "            \"followers\" : \"not found\",\n",
    "            \"applicant\":\"not found\",\n",
    "            \"ttype\":\"not found\",\n",
    "            \"company\":\"not found\",\n",
    "            \"location\":\"not found\",\n",
    "            \"emp\":\"not found\",\n",
    "            \"Inudstry\": \"not found\",\n",
    "            \"Involment\": \"not found\"\n",
    "            }"
   ]
  },
  {
   "cell_type": "markdown",
   "id": "5236f573",
   "metadata": {},
   "source": [
    "## SCRAPING THE DATA FOR A SINGLE PAGE"
   ]
  },
  {
   "cell_type": "code",
   "execution_count": 9,
   "id": "5156c180",
   "metadata": {},
   "outputs": [],
   "source": [
    "# Function for Scrapping the Data For a Single-Page\n",
    "\n",
    "def Scrape_One_Page_Data():\n",
    "    \n",
    "    # This Loop will scrape the Diffrent Jobs:\n",
    "    for element in range(2,24):\n",
    "        \n",
    "        try:\n",
    "            # This Click will Iterate through diffrent jobs and scrape data :\n",
    "            first = obj.find_element('xpath', f'/html/body/div[5]/div[3]/div[4]/div/div/main/div/section[1]/div/ul/li[{element}]/div/div[1]/div[1]/div[2]/div[1]/a')\n",
    "            time.sleep(2)\n",
    "            first.click()\n",
    "            \n",
    "            # Giving the time to load the data \n",
    "            time.sleep(4)\n",
    "            \n",
    "            # Extracting the Title of the job :\n",
    "            try:\n",
    "                title = obj.find_element('xpath', '/html/body/div[5]/div[3]/div[4]/div/div/main/div/section[2]/div/div[2]/div[1]/div/div[1]/div/div[1]/div[1]/a/h2')\n",
    "                \n",
    "                # Extracting only the Text part :\n",
    "                temp[\"title\"] = title.text\n",
    "            except:\n",
    "                pass\n",
    "            \n",
    "            # Extracting numbers of Followers of a company :\n",
    "            try:\n",
    "                followers = obj.find_element('xpath','/html/body/div[5]/div[3]/div[4]/div/div/main/div/section[2]/div/div[2]/div[1]/div/section/section/div[1]/div[1]/div/div[2]/div[2]')\n",
    "                \n",
    "                # Extracting only the Text part :\n",
    "                temp[\"followers\"] = followers.text\n",
    "            except:\n",
    "                pass\n",
    "            \n",
    "            # Extracting number of Applicants applied for that Particular Job :\n",
    "            try:\n",
    "                applicant = obj.find_element('xpath', '/html/body/div[5]/div[3]/div[4]/div/div/main/div/section[2]/div/div[2]/div[1]/div/div[1]/div/div[1]/div[1]/div[1]/span[2]/span[2]/span')\n",
    "                \n",
    "                # Extracting only the Text part :\n",
    "                temp[\"applicant\"] = applicant.text\n",
    "            except:\n",
    "                pass\n",
    "            \n",
    "            # Extracting the Level of the Job whether (entry, associate, manager, etc) :\n",
    "            try:\n",
    "                ttype = obj.find_element('xpath', '/html/body/div[5]/div[3]/div[4]/div/div/main/div/section[2]/div/div[2]/div[1]/div/div[1]/div/div[1]/div[1]/div[2]/ul/li[1]/span')\n",
    "                \n",
    "                # Extracting only the Text part :\n",
    "                temp[\"ttype\"] = ttype.text\n",
    "            except:\n",
    "                pass\n",
    "            \n",
    "            # Extracting the name of the Company :\n",
    "            try:\n",
    "                company = obj.find_element('xpath', '/html/body/div[5]/div[3]/div[4]/div/div/main/div/section[2]/div/div[2]/div[1]/div/div[1]/div/div[1]/div[1]/div[1]/span[1]/span[1]/a')\n",
    "                \n",
    "                # Extracting only the Text part :\n",
    "                temp[\"company\"] = company.text\n",
    "            except:\n",
    "                pass\n",
    "            \n",
    "            # Extracting the Location where the job is based :\n",
    "            try:\n",
    "                location = obj.find_element('xpath', '/html/body/div[5]/div[3]/div[4]/div/div/main/div/section[2]/div/div[2]/div[1]/div/div[1]/div/div[1]/div[1]/div[1]/span[1]/span[2]')\n",
    "                \n",
    "                # Extracting only the Text part :\n",
    "                temp[\"location\"] = location.text\n",
    "            except:\n",
    "                pass\n",
    "            \n",
    "            # Extracting the number of Employees that works in that Company :\n",
    "            try:\n",
    "                emp = obj.find_element('xpath', '/html/body/div[5]/div[3]/div[4]/div/div/main/div/section[2]/div/div[2]/div[1]/div/div[1]/div/div[1]/div[1]/div[2]/ul/li[2]/span')\n",
    "                \n",
    "                # Extracting only the Text part :\n",
    "                temp[\"emp\"] = emp.text\n",
    "            except:\n",
    "                pass\n",
    "            \n",
    "            # Extracting the type of the Industry that company belong-to :\n",
    "            try:\n",
    "                industry = obj.find_element('xpath', '/html/body/div[1]/div/section/div[2]/div/section[1]/div/ul/li[4]/span')\n",
    "                \n",
    "                # Extracting only the Text part :\n",
    "                temp[\"Inudstry\"] = industry.text\n",
    "            except:\n",
    "                pass\n",
    "            \n",
    "            # Extracting the Involment required for the job (full-time or partime, etc) :\n",
    "            try:\n",
    "                invol = obj.find_element('xpath', '/html/body/div[1]/div/section/div[2]/div/section[1]/div/ul/li[2]/span')\n",
    "                \n",
    "                # Extracting only the Text part :\n",
    "                temp[\"Involment\"] = invol.text\n",
    "            except:\n",
    "                pass\n",
    "            \n",
    "\n",
    "            # Appending our scraped data to our main list :\n",
    "            data.append(temp)\n",
    "\n",
    "        except:\n",
    "            pass"
   ]
  },
  {
   "cell_type": "markdown",
   "id": "beda5593",
   "metadata": {},
   "source": [
    "## TAKING INPUTS FROM USERS "
   ]
  },
  {
   "cell_type": "code",
   "execution_count": 10,
   "id": "f26eb0ef",
   "metadata": {},
   "outputs": [
    {
     "name": "stdout",
     "output_type": "stream",
     "text": [
      "Enter your emial-address :7874singhrahul@gmail.com\n",
      "Enter your password :Maisel@5599\n"
     ]
    },
    {
     "ename": "TypeError",
     "evalue": "object of type 'WebElement' has no len()",
     "output_type": "error",
     "traceback": [
      "\u001b[1;31m---------------------------------------------------------------------------\u001b[0m",
      "\u001b[1;31mTypeError\u001b[0m                                 Traceback (most recent call last)",
      "Cell \u001b[1;32mIn[10], line 8\u001b[0m\n\u001b[0;32m      5\u001b[0m password \u001b[38;5;241m=\u001b[39m \u001b[38;5;28minput\u001b[39m(\u001b[38;5;124m\"\u001b[39m\u001b[38;5;124mEnter your password :\u001b[39m\u001b[38;5;124m\"\u001b[39m)\n\u001b[0;32m      7\u001b[0m \u001b[38;5;66;03m# Calling the function to log-in to linkedin page :\u001b[39;00m\n\u001b[1;32m----> 8\u001b[0m \u001b[43mfunc_To_Login_In_Linkedin\u001b[49m\u001b[43m(\u001b[49m\u001b[43memail\u001b[49m\u001b[43m,\u001b[49m\u001b[43m \u001b[49m\u001b[43mpassword\u001b[49m\u001b[43m)\u001b[49m\n\u001b[0;32m      9\u001b[0m time\u001b[38;5;241m.\u001b[39msleep(\u001b[38;5;241m2\u001b[39m)\n",
      "Cell \u001b[1;32mIn[7], line 13\u001b[0m, in \u001b[0;36mfunc_To_Login_In_Linkedin\u001b[1;34m(email, password)\u001b[0m\n\u001b[0;32m     11\u001b[0m \u001b[38;5;66;03m# Entering Email\u001b[39;00m\n\u001b[0;32m     12\u001b[0m email \u001b[38;5;241m=\u001b[39m obj\u001b[38;5;241m.\u001b[39mfind_element(\u001b[38;5;124m'\u001b[39m\u001b[38;5;124mxpath\u001b[39m\u001b[38;5;124m'\u001b[39m , \u001b[38;5;124m'\u001b[39m\u001b[38;5;124m/html/body/div/main/div[2]/div[1]/form/div[1]/input\u001b[39m\u001b[38;5;124m'\u001b[39m);\n\u001b[1;32m---> 13\u001b[0m \u001b[43memail\u001b[49m\u001b[38;5;241;43m.\u001b[39;49m\u001b[43msend_keys\u001b[49m\u001b[43m(\u001b[49m\u001b[43memail\u001b[49m\u001b[43m)\u001b[49m\n\u001b[0;32m     15\u001b[0m \u001b[38;5;66;03m# Entering Password\u001b[39;00m\n\u001b[0;32m     16\u001b[0m password \u001b[38;5;241m=\u001b[39m obj\u001b[38;5;241m.\u001b[39mfind_element(\u001b[38;5;124m'\u001b[39m\u001b[38;5;124mxpath\u001b[39m\u001b[38;5;124m'\u001b[39m , \u001b[38;5;124m'\u001b[39m\u001b[38;5;124m/html/body/div/main/div[2]/div[1]/form/div[2]/input\u001b[39m\u001b[38;5;124m'\u001b[39m);\n",
      "File \u001b[1;32m~\\AppData\\Roaming\\Python\\Python311\\site-packages\\selenium\\webdriver\\remote\\webelement.py:234\u001b[0m, in \u001b[0;36mWebElement.send_keys\u001b[1;34m(self, *value)\u001b[0m\n\u001b[0;32m    230\u001b[0m             remote_files\u001b[38;5;241m.\u001b[39mappend(\u001b[38;5;28mself\u001b[39m\u001b[38;5;241m.\u001b[39m_upload(file))\n\u001b[0;32m    231\u001b[0m         value \u001b[38;5;241m=\u001b[39m \u001b[38;5;124m\"\u001b[39m\u001b[38;5;130;01m\\n\u001b[39;00m\u001b[38;5;124m\"\u001b[39m\u001b[38;5;241m.\u001b[39mjoin(remote_files)\n\u001b[0;32m    233\u001b[0m \u001b[38;5;28mself\u001b[39m\u001b[38;5;241m.\u001b[39m_execute(\n\u001b[1;32m--> 234\u001b[0m     Command\u001b[38;5;241m.\u001b[39mSEND_KEYS_TO_ELEMENT, {\u001b[38;5;124m\"\u001b[39m\u001b[38;5;124mtext\u001b[39m\u001b[38;5;124m\"\u001b[39m: \u001b[38;5;124m\"\u001b[39m\u001b[38;5;124m\"\u001b[39m\u001b[38;5;241m.\u001b[39mjoin(\u001b[43mkeys_to_typing\u001b[49m\u001b[43m(\u001b[49m\u001b[43mvalue\u001b[49m\u001b[43m)\u001b[49m), \u001b[38;5;124m\"\u001b[39m\u001b[38;5;124mvalue\u001b[39m\u001b[38;5;124m\"\u001b[39m: keys_to_typing(value)}\n\u001b[0;32m    235\u001b[0m )\n",
      "File \u001b[1;32m~\\AppData\\Roaming\\Python\\Python311\\site-packages\\selenium\\webdriver\\common\\utils.py:148\u001b[0m, in \u001b[0;36mkeys_to_typing\u001b[1;34m(value)\u001b[0m\n\u001b[0;32m    146\u001b[0m             _typing\u001b[38;5;241m.\u001b[39mappend(val[i])\n\u001b[0;32m    147\u001b[0m     \u001b[38;5;28;01melse\u001b[39;00m:\n\u001b[1;32m--> 148\u001b[0m         \u001b[38;5;28;01mfor\u001b[39;00m i \u001b[38;5;129;01min\u001b[39;00m \u001b[38;5;28mrange\u001b[39m(\u001b[38;5;28;43mlen\u001b[39;49m\u001b[43m(\u001b[49m\u001b[43mval\u001b[49m\u001b[43m)\u001b[49m):\n\u001b[0;32m    149\u001b[0m             _typing\u001b[38;5;241m.\u001b[39mappend(val[i])\n\u001b[0;32m    150\u001b[0m \u001b[38;5;28;01mreturn\u001b[39;00m _typing\n",
      "\u001b[1;31mTypeError\u001b[0m: object of type 'WebElement' has no len()"
     ]
    }
   ],
   "source": [
    "# Taking input from user to enter their email address to login the linkedin page :\n",
    "email = input(\"Enter your emial-address :\")\n",
    "\n",
    "# Taking input from the uswer to enter the password to login the linkedin page :\n",
    "password = input(\"Enter your password :\")\n",
    "\n",
    "# Calling the function to log-in to linkedin page :\n",
    "func_To_Login_In_Linkedin(email, password)\n",
    "time.sleep(2)"
   ]
  },
  {
   "cell_type": "markdown",
   "id": "8470876b",
   "metadata": {},
   "source": [
    "## SCRAPPING THE DATA FOR ALL PAGES"
   ]
  },
  {
   "cell_type": "code",
   "execution_count": null,
   "id": "76d3cb8a",
   "metadata": {},
   "outputs": [],
   "source": [
    "# Enter the number of pages you want extract the data :\n",
    "pages  = int(input(\"Enter the number of pages :\"))\n",
    "\n",
    "# Running this loop to extract data from multiple pages :\n",
    "for ele in range(1, pages + 1):\n",
    "    \n",
    "    # Calling the func to Extract/Scrape data for Individual Page :\n",
    "    Scrape_One_Page_Data()\n",
    "    \n",
    "    # time to load the data of next page :\n",
    "    time.sleep(5)\n",
    "    \n",
    "    # Hitting the URL of the next page to Extract/Scrape the Data :\n",
    "    obj.get(f'https://www.linkedin.com/jobs/search/?currentJobId=3427402379&start={ele*26}')\n",
    " "
   ]
  },
  {
   "cell_type": "markdown",
   "id": "331463da",
   "metadata": {},
   "source": [
    "## ENTERING THE DATA TO OUR BELOW CREATED LISTS"
   ]
  },
  {
   "cell_type": "code",
   "execution_count": null,
   "id": "c7778679",
   "metadata": {},
   "outputs": [],
   "source": [
    "# Defining n number of list to store our data :\n",
    "title_list = []\n",
    "company=[]\n",
    "followers = []\n",
    "job_type =[]\n",
    "emp = []\n",
    "location = []\n",
    "applicant = []\n",
    "Industry = []\n",
    "Involment = []\n",
    "\n",
    "# Running this loop to extract our data :\n",
    "for a in data:\n",
    "    title_list.append(a[\"title\"])\n",
    "    company.append(a[\"company\"])\n",
    "    followers.append(a[\"followers\"])\n",
    "    job_type.append(a[\"ttype\"])\n",
    "    emp.append(a[\"emp\"])\n",
    "    location.append(a[\"location\"])\n",
    "    applicant.append(a[\"applicant\"])"
   ]
  },
  {
   "cell_type": "markdown",
   "id": "3803bf2a",
   "metadata": {},
   "source": [
    "##  CREATING A DATAFRAME TO VIEW OUR DATASET"
   ]
  },
  {
   "cell_type": "code",
   "execution_count": null,
   "id": "b5e2f1ed",
   "metadata": {},
   "outputs": [],
   "source": [
    "# Creating a pandas dataframe to view our dataset :\n",
    "df=pd.DataFrame({ \"title_list\":title_list,\n",
    "                  \"company_name\":company,\n",
    "                  \"followers\" :followers,\n",
    "                  \"job_type\":job_type,\n",
    "                  \"employee\" : emp,\n",
    "                  \"location\" : location,\n",
    "                  \"applicant\" :applicant,\n",
    "                  \"Industry\" : Industry,\n",
    "                  \"Involment\" : Involment })\n"
   ]
  },
  {
   "cell_type": "markdown",
   "id": "ed7e48ec",
   "metadata": {},
   "source": [
    "## CREATING A COMMA-SEPREATED FILE TO DOWNLOAD OUR DATASET"
   ]
  },
  {
   "cell_type": "code",
   "execution_count": null,
   "id": "35c57efe",
   "metadata": {},
   "outputs": [],
   "source": [
    "df.to_csv(\"All_data.csv\")"
   ]
  }
 ],
 "metadata": {
  "kernelspec": {
   "display_name": "Python 3 (ipykernel)",
   "language": "python",
   "name": "python3"
  },
  "language_info": {
   "codemirror_mode": {
    "name": "ipython",
    "version": 3
   },
   "file_extension": ".py",
   "mimetype": "text/x-python",
   "name": "python",
   "nbconvert_exporter": "python",
   "pygments_lexer": "ipython3",
   "version": "3.11.1"
  }
 },
 "nbformat": 4,
 "nbformat_minor": 5
}
